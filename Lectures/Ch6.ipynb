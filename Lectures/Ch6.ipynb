{
 "cells": [
  {
   "cell_type": "markdown",
   "metadata": {},
   "source": [
    "# Chapter 6: Using Design Patterns\n",
    "## Introduction to Patterns\n",
    "- The recurring aspects of designs are called *design patterns*.\n",
    "- A *pattern* is the outline of a reusable solution to a general problem encountered in a particular context.\n",
    "- Many of them have been systematically documented for all software developers to use.\n",
    "- A good pattern should:\n",
    "    - Be as general as possible.\n",
    "    - Contain a solution that has been proven to effectively solve the problem in the indicated context.\n",
    "- Studying patterns is an effective way to learn from the experience of others.\n",
    "\n",
    "### Pattern Description\n",
    "- Context: the general situation in which the pattern applies.\n",
    "- Problem: a short sentence or two raising the main difficulty.\n",
    "- Forces: the issues or concerns to consider when solving the problem."
   ]
  }
 ],
 "metadata": {
  "kernelspec": {
   "display_name": "Java (Rapaio Jupyter)",
   "language": "java",
   "name": "rapaio-jupyter-kernel"
  },
  "language_info": {
   "name": "java"
  }
 },
 "nbformat": 4,
 "nbformat_minor": 2
}
