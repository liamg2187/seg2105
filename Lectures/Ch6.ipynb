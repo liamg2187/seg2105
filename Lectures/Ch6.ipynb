{
 "cells": [
  {
   "cell_type": "markdown",
   "metadata": {},
   "source": [
    "# Chapter 6: Using Design Patterns\n",
    "## Introduction to Patterns\n",
    "- The recurring aspects of designs are called *design patterns*.\n",
    "- A *pattern* is the outline of a reusable solution to a general problem encountered in a particular context.\n",
    "- Many of them have been systematically documented for all software developers to use.\n",
    "- A good pattern should:\n",
    "    - Be as general as possible.\n",
    "    - Contain a solution that has been proven to effectively solve the problem in the indicated context.\n",
    "- Studying patterns is an effective way to learn from the experience of others.\n",
    "\n",
    "### Pattern Description\n",
    "- Context: the general situation in which the pattern applies.\n",
    "- Problem: a short sentence or two raising the main difficulty.\n",
    "- Forces: the issues or concerns to consider when solving the problem.\n",
    "- Solution: The recommended way to solve the problem in the given context.\n",
    "- Antipatterns (optional): Solutions that are inferior or do not work in this context.\n",
    "- Related patterns (optional): Patterns that are similar to this pattern.\n",
    "- References: Who developed or inspired the pattern."
   ]
  },
  {
   "cell_type": "markdown",
   "metadata": {},
   "source": [
    "## The Abstraction-Occurence Pattern\n",
    "- *Context*:\n",
    "    - Often in a domain model you find a set of related objects (*occurences*).\n",
    "    - The members of such a set share common information, but also differ from each other in important ways.\n",
    "- *Problem*:\n",
    "    - What is the best way to represent such sets of occurences in a class diagram?\n",
    "- *Forces*:\n",
    "    - You want to represent the members of each set of occurences without duplicating the common information.\n",
    "- *Solution*:\n",
    "\n",
    "    ![Abstraction-Occurence Example](../Resources/AbstractionOccurenceExample.png)"
   ]
  },
  {
   "cell_type": "markdown",
   "metadata": {},
   "source": [
    "## The General Hierarchy Pattern\n",
    "- *Context*:\n",
    "    - Objects in a hierarchy can have one or more objects above them (superiors), and one or more objects below them (subordinates).\n",
    "- *Problem*:\n",
    "    - How do you represent a hierachy of objects, in which some objects cannot have subordinates?\n",
    "- *Forces*:\n",
    "    - You want a flexible way of representing the hierarchy that prevents certain objects from having subordinates.\n",
    "    - All the objects may have many common properties and operations.\n",
    "- *Solution*:\n",
    "\n",
    "    ![General Hierarchy Example](../Resources/GeneralHierarchyPatternExample.png)"
   ]
  },
  {
   "cell_type": "markdown",
   "metadata": {},
   "source": [
    "## The Player-Role Pattern\n",
    "- *Context*:\n",
    "    - A *role* is a particular set of properties associated with an object in a particular context.\n",
    "    - An object may *play* different roles in different contexts.\n",
    "- *Problem*:\n",
    "    - How do you best model players and roles so that a player can change roles or possess multiple roles?\n",
    "- *Forces*:\n",
    "    - It is desirable to improve encapsulation by capturing the information associated with each separate role in a class.\n",
    "    - You want to avoid multiple inheritance.\n",
    "    - You cannot allow an instance to change class.\n",
    "- *Solution:\n",
    "\n",
    "    ![Player-Role Pattern Example](../Resources/PlayerRoleExample.png)"
   ]
  },
  {
   "cell_type": "markdown",
   "metadata": {},
   "source": [
    "## The Singleton Pattern\n",
    "- *Context*:\n",
    "    - It is very common to find classes for which only one instance should exist (*singleton*).\n",
    "- *Problem*:\n",
    "    - How do you ensure that it is never possible  to create more than one instance of a singleton class?\n",
    "- *Forces*:\n",
    "    - The use of a public constructor cannot guarantee that no more that one instance will be created.\n",
    "    - The singleton instance must also be accessible to all classes that require it.\n",
    "- *Solution*:\n",
    "\n",
    "    ![Singleton Pattern Example](../Resources/SingletonExample.png)"
   ]
  },
  {
   "cell_type": "markdown",
   "metadata": {},
   "source": [
    "## The Observer Pattern\n",
    "- *Context*:\n",
    "    - When an association is created between two classes, the code for the classes becomes inseperable.\n",
    "    - If you want to reuse one class, then you also have to reuse the other.\n",
    "- *Problem*:\n",
    "    - How do you reduce the interconnection between classes, especially between classes that belong to different modules or subsystems?\n",
    "- *Forces*:\n",
    "    - You want to maximize the flexibility of the system to the greatest extent possible.\n",
    "- *Solution*:\n",
    "\n",
    "    ![Observer Pattern Example](../Resources/ObserverPatternExample.png)"
   ]
  }
 ],
 "metadata": {
  "kernelspec": {
   "display_name": "Java (Rapaio Jupyter)",
   "language": "java",
   "name": "rapaio-jupyter-kernel"
  },
  "language_info": {
   "name": "java"
  }
 },
 "nbformat": 4,
 "nbformat_minor": 2
}
