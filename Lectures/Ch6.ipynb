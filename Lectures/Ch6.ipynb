{
 "cells": [
  {
   "cell_type": "markdown",
   "metadata": {},
   "source": [
    "# Chapter 6: Using Design Patterns\n",
    "## Introduction to Patterns\n",
    "- The recurring aspects of designs are called *design patterns*.\n",
    "- A *pattern* is the outline of a reusable solution to a general problem encountered in a particular context.\n",
    "- Many of them have been systematically documented for all software developers to use.\n",
    "- A good pattern should:\n",
    "    - Be as general as possible.\n",
    "    - Contain a solution that has been proven to effectively solve the problem in the indicated context.\n",
    "- Studying patterns is an effective way to learn from the experience of others.\n",
    "\n",
    "### Pattern Description\n",
    "- Context: the general situation in which the pattern applies.\n",
    "- Problem: a short sentence or two raising the main difficulty.\n",
    "- Forces: the issues or concerns to consider when solving the problem.\n",
    "- Solution: The recommended way to solve the problem in the given context.\n",
    "- Antipatterns (optional): Solutions that are inferior or do not work in this context.\n",
    "- Related patterns (optional): Patterns that are similar to this pattern.\n",
    "- References: Who developed or inspired the pattern."
   ]
  },
  {
   "cell_type": "markdown",
   "metadata": {},
   "source": [
    "## The Abstraction-Occurence Pattern\n",
    "- *Context*:\n",
    "    - Often in a domain model you find a set of related objects (*occurences*).\n",
    "    - The members of such a set share common information, but also differ from each other in important ways.\n",
    "- *Problem*:\n",
    "    - What is the best way to represent such sets of occurences in a class diagram?\n",
    "- *Forces*:\n",
    "    - You want to represent the members of each set of occurences without duplicating the common information.\n",
    "- *Solution*:\n",
    "\n",
    "    ![Abstraction-Occurence Example](../Resources/AbstractionOccurenceExample.png)"
   ]
  },
  {
   "cell_type": "markdown",
   "metadata": {},
   "source": [
    "## The General Hierarchy Pattern\n",
    "- *Context*:\n",
    "    - Objects in a hierarchy can have one or more objects above them (superiors), and one or more objects below them (subordinates).\n",
    "- *Problem*:\n",
    "    - How do you represent a hierachy of objects, in which some objects cannot have subordinates?\n",
    "- *Forces*:\n",
    "    - You want a flexible way of representing the hierarchy that prevents certain objects from having subordinates.\n",
    "    - All the objects may have many common properties and operations.\n",
    "- *Solution*:\n",
    "\n",
    "    ![General Hierarchy Example](../Resources/GeneralHierarchyPatternExample.png)"
   ]
  },
  {
   "cell_type": "markdown",
   "metadata": {},
   "source": [
    "## The Player-Role Pattern\n",
    "- *Context*:\n",
    "    - A *role* is a particular set of properties associated with an object in a particular context.\n",
    "    - An object may *play* different roles in different contexts.\n",
    "- *Problem*:\n",
    "    - How do you best model players and roles so that a player can change roles or possess multiple roles?\n",
    "- *Forces*:\n",
    "    - It is desirable to improve encapsulation by capturing the information associated with each separate role in a class.\n",
    "    - You want to avoid multiple inheritance.\n",
    "    - You cannot allow an instance to change class.\n",
    "- *Solution:\n",
    "\n",
    "    ![Player-Role Pattern Example](../Resources/PlayerRoleExample.png)"
   ]
  },
  {
   "cell_type": "markdown",
   "metadata": {},
   "source": [
    "## The Singleton Pattern\n",
    "- *Context*:\n",
    "    - It is very common to find classes for which only one instance should exist (*singleton*).\n",
    "- *Problem*:\n",
    "    - How do you ensure that it is never possible  to create more than one instance of a singleton class?\n",
    "- *Forces*:\n",
    "    - The use of a public constructor cannot guarantee that no more that one instance will be created.\n",
    "    - The singleton instance must also be accessible to all classes that require it.\n",
    "- *Solution*:\n",
    "\n",
    "    ![Singleton Pattern Example](../Resources/SingletonExample.png)"
   ]
  },
  {
   "cell_type": "markdown",
   "metadata": {},
   "source": [
    "## The Observer Pattern\n",
    "- *Context*:\n",
    "    - When an association is created between two classes, the code for the classes becomes inseperable.\n",
    "    - If you want to reuse one class, then you also have to reuse the other.\n",
    "- *Problem*:\n",
    "    - How do you reduce the interconnection between classes, especially between classes that belong to different modules or subsystems?\n",
    "- *Forces*:\n",
    "    - You want to maximize the flexibility of the system to the greatest extent possible.\n",
    "- *Solution*:\n",
    "\n",
    "    ![Observer Pattern Example](../Resources/ObserverPatternExample.png)"
   ]
  },
  {
   "cell_type": "markdown",
   "metadata": {},
   "source": [
    "## The Delegation Pattern\n",
    "- *Context*:\n",
    "    - You are designing a method in class.\n",
    "    - You realize that another class has a method which provides the required service.\n",
    "    - Inheritance is not appropriate.\n",
    "- *Problem*:\n",
    "    - How can you most effectively make use of a method that already exists in the other class?\n",
    "- *Forces*:\n",
    "    - You want to minimize development cost by reusing methods.\n",
    "\n",
    "![Delegation Pattern Example](../Resources/DelegationPatternExample.png)\n",
    "\n",
    "- *Antipatterns*:\n",
    "    - Overuse generalization and *inherit* the method that is to be reused.\n",
    "    - Instead of creating a *single* method in the Delegator that does nothing other than call a method in the Delegate, consider having many different methods in the Delegator call the delegate's method.\n",
    "    - Access non-neighbouring classes."
   ]
  },
  {
   "cell_type": "markdown",
   "metadata": {},
   "source": [
    "## The Adapter Pattern\n",
    "- *Context*:\n",
    "    - You are building an inheritance hierarchy and want to incorporate it into an existing class.\n",
    "    - The reused class is also often already part of its own inheritance hierarchy.\n",
    "- *Problem*:\n",
    "    - How to obtain the power of polymorphism when reusing a class whose methods have the same function but not the same signature as the other methods in the hierarchy?\n",
    "- *Forces*: You do not have access to multiple inheritance or you do not want to use it.\n",
    "\n",
    "![Adapter Pattern Example](../Resources/AdapterPatternExample.png)"
   ]
  },
  {
   "cell_type": "markdown",
   "metadata": {},
   "source": [
    "## The Façade Pattern\n",
    "- *Context*:\n",
    "    - Often, an application contains several complex packages.\n",
    "    - A programmer working with such packages has to manipulate many different classes.\n",
    "- *Problem*:\n",
    "    - How do you simplify the view that programmers have of a complex package?\n",
    "- *Forces*:\n",
    "    - It is hard for a programmer to understand and use an entire subsystem.\n",
    "    - If several different application classes call methods of the complex package, then any modifications made to the package will necessitate a complete review of all these classes.\n",
    "\n",
    "![Façade Pattern Example](../Resources/FacadePatternExample.png)"
   ]
  },
  {
   "cell_type": "markdown",
   "metadata": {},
   "source": [
    "## The Immutable Pattern\n",
    "- *Context*:\n",
    "    - An immutable  object is an object that has a state that never changes after creation.\n",
    "- *Problem*:\n",
    "    - How do you create a class whose instances are immutable?\n",
    "- *Forces*:\n",
    "    - There must be no loopholes that would allow 'illegal' modification of an immutable object.\n",
    "- *Solution*:\n",
    "    - Ensure that the constructor of the immutable class is the *only* place where the values of instance variables are set or modified.\n",
    "    - Instance methods which access properties must not have side effects.\n",
    "    - If a method that would otherwise modify an instance variable is required, then it has to return a *new* instance of the class."
   ]
  },
  {
   "cell_type": "markdown",
   "metadata": {},
   "source": [
    "## The Read-Only Interface Pattern\n",
    "- *Context*:\n",
    "    - You sometimes want certain privileged classes to be able to modify attributes of objects that are otherwise immutable.\n",
    "- *Problem*:\n",
    "    - How do you create a situation where some classes see a class as read-only whereas other are able to make modifications?\n",
    "- *Forces*:\n",
    "    - Restricting access by using the `public`, `proteted`, and `private` keywords is not adequately selective.\n",
    "    - Making access `public` makes it public for both reading and writing.\n",
    "\n",
    "![Read-Only Interace Pattern Example](../Resources/ReadOnlyInterfacePatternExample.png)\n",
    "\n",
    "- *Antipatterns*:\n",
    "    - Make the read-only class a *subclass* of the Mutable class.\n",
    "    - Override all methods that modify properties such that they throw an exception."
   ]
  },
  {
   "cell_type": "markdown",
   "metadata": {},
   "source": [
    "## The Proxy Pattern\n",
    "- *Context*:\n",
    "    - Often, it is time-consuming and complicated to create instances of a class (*heavyweight* classes).\n",
    "    - There is a time delay and a complex mechanism involved in creating the object in memory.\n",
    "- *Problem*:\n",
    "    - How to reduce the need to create instances of a heavyweight class?\n",
    "- *Forces*:\n",
    "    - We want all the objects in a domain model to be available for programs to use when they execute a system's various responsibilities.\n",
    "    - It is also important for many objects to persist from run to run of the same program.\n",
    "\n",
    "![Proxy Pattern Example](../Resources/ProxyPatternExample.png)"
   ]
  },
  {
   "cell_type": "markdown",
   "metadata": {},
   "source": [
    "## The Factory Pattern\n",
    "- *Context*:\n",
    "    - A reusable framework needs to create objects; however, the class of the created objects depends on the application.\n",
    "- *Problem*:\n",
    "    - How do you enable a programmer to add new application-specific class into a system built on such a framework?\n",
    "- *Forces*:\n",
    "    - We want to have the framework create and work with application-specific classes that the framework does not yet know about.\n",
    "- *Solution*:\n",
    "    - The framework delegates the creation of application-specific classes to a specialized class, the Factory.\n",
    "    - The Factory is a generic interface defined in the framework.\n",
    "    - The Factory interface declares a method whose purpose is to create some subclass of a generic class.\n",
    "\n",
    "![Factory Pattern Example](../Resources/FactoryPatternExample.png)"
   ]
  }
 ],
 "metadata": {
  "kernelspec": {
   "display_name": "Java (Rapaio Jupyter)",
   "language": "java",
   "name": "rapaio-jupyter-kernel"
  },
  "language_info": {
   "name": "java"
  }
 },
 "nbformat": 4,
 "nbformat_minor": 2
}
